{
 "cells": [
  {
   "cell_type": "code",
   "execution_count": 1,
   "metadata": {},
   "outputs": [
    {
     "name": "stderr",
     "output_type": "stream",
     "text": [
      "C:\\Users\\dlorenz\\AppData\\Local\\Continuum\\anaconda3\\lib\\site-packages\\h5py\\__init__.py:36: FutureWarning: Conversion of the second argument of issubdtype from `float` to `np.floating` is deprecated. In future, it will be treated as `np.float64 == np.dtype(float).type`.\n",
      "  from ._conv import register_converters as _register_converters\n",
      "Using TensorFlow backend.\n"
     ]
    }
   ],
   "source": [
    "#load os\n",
    "import os\n",
    "\n",
    "#load Flask \n",
    "import flask\n",
    "from flask import Flask, render_template, request\n",
    "from flask_uploads import UploadSet, configure_uploads, IMAGES\n",
    "\n",
    "#load model preprocessing and needed keras packa\n",
    "import numpy as np\n",
    "import pandas as pd\n",
    "\n",
    "import sys\n",
    "\n",
    "import cv2\n",
    "import scipy\n",
    "import skimage\n",
    "from skimage.transform import resize\n",
    "\n",
    "import keras.models\n",
    "from keras.models import model_from_json\n",
    "from keras.layers import Input"
   ]
  },
  {
   "cell_type": "code",
   "execution_count": 2,
   "metadata": {},
   "outputs": [],
   "source": [
    "#initialize app\n",
    "app = flask.Flask(__name__)"
   ]
  },
  {
   "cell_type": "code",
   "execution_count": 3,
   "metadata": {},
   "outputs": [
    {
     "name": "stdout",
     "output_type": "stream",
     "text": [
      "WARNING:tensorflow:From C:\\Users\\dlorenz\\AppData\\Local\\Continuum\\anaconda3\\lib\\site-packages\\tensorflow\\python\\framework\\op_def_library.py:263: colocate_with (from tensorflow.python.framework.ops) is deprecated and will be removed in a future version.\n",
      "Instructions for updating:\n",
      "Colocations handled automatically by placer.\n",
      "WARNING:tensorflow:From C:\\Users\\dlorenz\\AppData\\Local\\Continuum\\anaconda3\\lib\\site-packages\\keras\\backend\\tensorflow_backend.py:3445: calling dropout (from tensorflow.python.ops.nn_ops) with keep_prob is deprecated and will be removed in a future version.\n",
      "Instructions for updating:\n",
      "Please use `rate` instead of `keep_prob`. Rate should be set to `rate = 1 - keep_prob`.\n",
      "Loaded Model from disk\n"
     ]
    }
   ],
   "source": [
    "# Load pre-trained model into memory\n",
    "json_file = open('model.json','r')\n",
    "loaded_model_json = json_file.read()\n",
    "json_file.close()\n",
    "loaded_model = model_from_json(loaded_model_json)\n",
    "\n",
    "#load weights into new model\n",
    "loaded_model.load_weights(\"weights.h5\")\n",
    "print(\"Loaded Model from disk\")"
   ]
  },
  {
   "cell_type": "markdown",
   "metadata": {},
   "source": [
    "https://github.com/anagar20/Resnet-Image-Classification-Flask-App\n",
    "\n",
    "Note: I referred to the code above as a starting point"
   ]
  },
  {
   "cell_type": "code",
   "execution_count": 4,
   "metadata": {},
   "outputs": [],
   "source": [
    "photos = UploadSet('photos', IMAGES)\n",
    "app.config['UPLOADED_PHOTOS_DEST'] = '.'\n",
    "configure_uploads(app, photos)"
   ]
  },
  {
   "cell_type": "code",
   "execution_count": 5,
   "metadata": {},
   "outputs": [],
   "source": [
    "@app.route('/', methods=['GET','POST'])\n",
    "def upload():\n",
    "    if request.method == 'POST':           \n",
    "        #Delete output.png if already exists (will be overwriting this and get error if not removed)\n",
    "        if os.path.exists('output.png')==True:\n",
    "            os.remove('output.png')\n",
    "        \n",
    "        # save file to network (note: run line below if you don't want to keep images)\n",
    "        filename = photos.save(request.files['photo'])\n",
    "        # rename file so you don't blow up storage with files uploaded\n",
    "        os.rename('./'+filename,'./'+'output.png')\n",
    "\n",
    "        # convert to matrix that is size needed for CNN\n",
    "        img_matrix = cv2.imread('output.png')\n",
    "        img_matrix_downsampled = skimage.transform.resize(img_matrix, (256,256,3)) \n",
    "        img_matrix_resized = img_matrix_downsampled.reshape(1,3,256,256)\n",
    "       \n",
    "        # put through pre-trained CNN and send prediction to HTML to give user response\n",
    "        pred_df = pd.DataFrame(loaded_model.predict(img_matrix_resized))[1]\n",
    "        if pred_df.iloc[0]<0.50:\n",
    "            #Note: these numbers are based on model precision in test sample\n",
    "            prediction = \"Not at high risk of pneumonia. Rescan if symptoms persist\"\n",
    "        else:\n",
    "            prediction = \"At high risk of pneumonia. Please provide treatment.\"\n",
    "\n",
    "        return render_template('results_page.html', prediction=prediction)\n",
    "    \n",
    "    else:\n",
    "        #load upload page\n",
    "        return render_template('upload_page.html')"
   ]
  },
  {
   "cell_type": "code",
   "execution_count": null,
   "metadata": {},
   "outputs": [
    {
     "name": "stderr",
     "output_type": "stream",
     "text": [
      " * Running on http://0.0.0.0:5000/ (Press CTRL+C to quit)\n",
      "127.0.0.1 - - [24/Jul/2019 23:02:47] \"\u001b[37mGET / HTTP/1.1\u001b[0m\" 200 -\n",
      "127.0.0.1 - - [24/Jul/2019 23:03:43] \"\u001b[37mPOST / HTTP/1.1\u001b[0m\" 200 -\n"
     ]
    }
   ],
   "source": [
    "if __name__ == \"__main__\":\n",
    "    # start the flask app, allow remote connections\n",
    "    #decide what port to run the app in\n",
    "    port = int(os.environ.get('PORT', 5000))\n",
    "    #run the app locally on the givn port\n",
    "    app.run(host='0.0.0.0', port=port)"
   ]
  }
 ],
 "metadata": {
  "kernelspec": {
   "display_name": "Python 3",
   "language": "python",
   "name": "python3"
  },
  "language_info": {
   "codemirror_mode": {
    "name": "ipython",
    "version": 3
   },
   "file_extension": ".py",
   "mimetype": "text/x-python",
   "name": "python",
   "nbconvert_exporter": "python",
   "pygments_lexer": "ipython3",
   "version": "3.6.5"
  }
 },
 "nbformat": 4,
 "nbformat_minor": 2
}
